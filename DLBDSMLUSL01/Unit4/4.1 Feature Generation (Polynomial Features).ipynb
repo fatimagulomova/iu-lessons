{
 "cells": [
  {
   "cell_type": "markdown",
   "id": "71e972cb",
   "metadata": {},
   "source": [
    "# Notebbok Imports"
   ]
  },
  {
   "cell_type": "code",
   "execution_count": 2,
   "id": "c4a15ad7",
   "metadata": {},
   "outputs": [],
   "source": [
    "import numpy as np \n",
    "import pandas as pd \n",
    "from sklearn.preprocessing import PolynomialFeatures"
   ]
  },
  {
   "cell_type": "markdown",
   "id": "8b1f60b1",
   "metadata": {},
   "source": [
    "# Generate sample data"
   ]
  },
  {
   "cell_type": "code",
   "execution_count": 4,
   "id": "ab79964e",
   "metadata": {},
   "outputs": [
    {
     "data": {
      "text/html": [
       "<div>\n",
       "<style scoped>\n",
       "    .dataframe tbody tr th:only-of-type {\n",
       "        vertical-align: middle;\n",
       "    }\n",
       "\n",
       "    .dataframe tbody tr th {\n",
       "        vertical-align: top;\n",
       "    }\n",
       "\n",
       "    .dataframe thead th {\n",
       "        text-align: right;\n",
       "    }\n",
       "</style>\n",
       "<table border=\"1\" class=\"dataframe\">\n",
       "  <thead>\n",
       "    <tr style=\"text-align: right;\">\n",
       "      <th></th>\n",
       "      <th>Customer-ID</th>\n",
       "      <th>Gender</th>\n",
       "      <th>Work-type</th>\n",
       "      <th>Client-satisfaction</th>\n",
       "      <th>Number-occupants</th>\n",
       "      <th>Consumption</th>\n",
       "    </tr>\n",
       "  </thead>\n",
       "  <tbody>\n",
       "    <tr>\n",
       "      <th>0</th>\n",
       "      <td>1</td>\n",
       "      <td>M</td>\n",
       "      <td>1</td>\n",
       "      <td>3</td>\n",
       "      <td>2</td>\n",
       "      <td>70</td>\n",
       "    </tr>\n",
       "    <tr>\n",
       "      <th>1</th>\n",
       "      <td>2</td>\n",
       "      <td>F</td>\n",
       "      <td>2</td>\n",
       "      <td>0</td>\n",
       "      <td>4</td>\n",
       "      <td>140</td>\n",
       "    </tr>\n",
       "    <tr>\n",
       "      <th>2</th>\n",
       "      <td>3</td>\n",
       "      <td>M</td>\n",
       "      <td>2</td>\n",
       "      <td>4</td>\n",
       "      <td>2</td>\n",
       "      <td>65</td>\n",
       "    </tr>\n",
       "    <tr>\n",
       "      <th>3</th>\n",
       "      <td>4</td>\n",
       "      <td>F</td>\n",
       "      <td>3</td>\n",
       "      <td>3</td>\n",
       "      <td>1</td>\n",
       "      <td>40</td>\n",
       "    </tr>\n",
       "    <tr>\n",
       "      <th>4</th>\n",
       "      <td>5</td>\n",
       "      <td>F</td>\n",
       "      <td>3</td>\n",
       "      <td>5</td>\n",
       "      <td>2</td>\n",
       "      <td>65</td>\n",
       "    </tr>\n",
       "  </tbody>\n",
       "</table>\n",
       "</div>"
      ],
      "text/plain": [
       "   Customer-ID Gender  Work-type  Client-satisfaction  Number-occupants  \\\n",
       "0            1      M          1                    3                 2   \n",
       "1            2      F          2                    0                 4   \n",
       "2            3      M          2                    4                 2   \n",
       "3            4      F          3                    3                 1   \n",
       "4            5      F          3                    5                 2   \n",
       "\n",
       "   Consumption  \n",
       "0           70  \n",
       "1          140  \n",
       "2           65  \n",
       "3           40  \n",
       "4           65  "
      ]
     },
     "execution_count": 4,
     "metadata": {},
     "output_type": "execute_result"
    }
   ],
   "source": [
    "Table = {\n",
    "    'Customer-ID': [1, 2, 3, 4, 5], \n",
    "    'Gender': ['M','F','M','F','F'], \n",
    "    'Work-type': [1, 2, 2, 3, 3], \n",
    "    'Client-satisfaction':[3, 0, 4, 3, 5], \n",
    "    'Number-occupants': [2, 4, 2, 1, 2],\n",
    "    'Consumption':[70, 140, 65, 40, 65]\n",
    "}\n",
    "\n",
    "TDF = pd.DataFrame(data=Table)\n",
    "TDF"
   ]
  },
  {
   "cell_type": "markdown",
   "id": "29af72b9",
   "metadata": {},
   "source": [
    "# Polynomial Feature"
   ]
  },
  {
   "cell_type": "code",
   "execution_count": 5,
   "id": "ab1577b9",
   "metadata": {},
   "outputs": [
    {
     "data": {
      "text/plain": [
       "array([[  2.,  70., 140.],\n",
       "       [  4., 140., 560.],\n",
       "       [  2.,  65., 130.],\n",
       "       [  1.,  40.,  40.],\n",
       "       [  2.,  65., 130.]])"
      ]
     },
     "execution_count": 5,
     "metadata": {},
     "output_type": "execute_result"
    }
   ],
   "source": [
    "pf = PolynomialFeatures(degree=2, interaction_only=True, include_bias=False).fit(TDF[['Number-occupants', 'Consumption']])\n",
    "\n",
    "# apply the polynomial feature creator to the data\n",
    "int_feat = pf.transform(TDF[['Number-occupants', 'Consumption']])\n",
    "int_feat"
   ]
  },
  {
   "cell_type": "code",
   "execution_count": 6,
   "id": "edd2b518",
   "metadata": {},
   "outputs": [
    {
     "data": {
      "text/html": [
       "<div>\n",
       "<style scoped>\n",
       "    .dataframe tbody tr th:only-of-type {\n",
       "        vertical-align: middle;\n",
       "    }\n",
       "\n",
       "    .dataframe tbody tr th {\n",
       "        vertical-align: top;\n",
       "    }\n",
       "\n",
       "    .dataframe thead th {\n",
       "        text-align: right;\n",
       "    }\n",
       "</style>\n",
       "<table border=\"1\" class=\"dataframe\">\n",
       "  <thead>\n",
       "    <tr style=\"text-align: right;\">\n",
       "      <th></th>\n",
       "      <th>Customer-ID</th>\n",
       "      <th>Gender</th>\n",
       "      <th>Work-type</th>\n",
       "      <th>Client-satisfaction</th>\n",
       "      <th>Number-occupants</th>\n",
       "      <th>Consumption</th>\n",
       "      <th>Number-occupants</th>\n",
       "      <th>Consumption</th>\n",
       "      <th>nOcc_x_Conspt</th>\n",
       "    </tr>\n",
       "  </thead>\n",
       "  <tbody>\n",
       "    <tr>\n",
       "      <th>0</th>\n",
       "      <td>1</td>\n",
       "      <td>M</td>\n",
       "      <td>1</td>\n",
       "      <td>3</td>\n",
       "      <td>2</td>\n",
       "      <td>70</td>\n",
       "      <td>2.0</td>\n",
       "      <td>70.0</td>\n",
       "      <td>140.0</td>\n",
       "    </tr>\n",
       "    <tr>\n",
       "      <th>1</th>\n",
       "      <td>2</td>\n",
       "      <td>F</td>\n",
       "      <td>2</td>\n",
       "      <td>0</td>\n",
       "      <td>4</td>\n",
       "      <td>140</td>\n",
       "      <td>4.0</td>\n",
       "      <td>140.0</td>\n",
       "      <td>560.0</td>\n",
       "    </tr>\n",
       "    <tr>\n",
       "      <th>2</th>\n",
       "      <td>3</td>\n",
       "      <td>M</td>\n",
       "      <td>2</td>\n",
       "      <td>4</td>\n",
       "      <td>2</td>\n",
       "      <td>65</td>\n",
       "      <td>2.0</td>\n",
       "      <td>65.0</td>\n",
       "      <td>130.0</td>\n",
       "    </tr>\n",
       "    <tr>\n",
       "      <th>3</th>\n",
       "      <td>4</td>\n",
       "      <td>F</td>\n",
       "      <td>3</td>\n",
       "      <td>3</td>\n",
       "      <td>1</td>\n",
       "      <td>40</td>\n",
       "      <td>1.0</td>\n",
       "      <td>40.0</td>\n",
       "      <td>40.0</td>\n",
       "    </tr>\n",
       "    <tr>\n",
       "      <th>4</th>\n",
       "      <td>5</td>\n",
       "      <td>F</td>\n",
       "      <td>3</td>\n",
       "      <td>5</td>\n",
       "      <td>2</td>\n",
       "      <td>65</td>\n",
       "      <td>2.0</td>\n",
       "      <td>65.0</td>\n",
       "      <td>130.0</td>\n",
       "    </tr>\n",
       "  </tbody>\n",
       "</table>\n",
       "</div>"
      ],
      "text/plain": [
       "   Customer-ID Gender  Work-type  Client-satisfaction  Number-occupants  \\\n",
       "0            1      M          1                    3                 2   \n",
       "1            2      F          2                    0                 4   \n",
       "2            3      M          2                    4                 2   \n",
       "3            4      F          3                    3                 1   \n",
       "4            5      F          3                    5                 2   \n",
       "\n",
       "   Consumption  Number-occupants  Consumption  nOcc_x_Conspt  \n",
       "0           70               2.0         70.0          140.0  \n",
       "1          140               4.0        140.0          560.0  \n",
       "2           65               2.0         65.0          130.0  \n",
       "3           40               1.0         40.0           40.0  \n",
       "4           65               2.0         65.0          130.0  "
      ]
     },
     "execution_count": 6,
     "metadata": {},
     "output_type": "execute_result"
    }
   ],
   "source": [
    "# convert the generated interaction feature array to a dataframe\n",
    "int_feat = pd.DataFrame(int_feat, columns=['Number-occupants', 'Consumption', 'nOcc_x_Conspt'])\n",
    " \n",
    "# append generated interaction feature to dataframe\n",
    "TDF = pd.concat([TDF, int_feat], axis=1)\n",
    "TDF"
   ]
  },
  {
   "cell_type": "code",
   "execution_count": null,
   "id": "fba78814",
   "metadata": {},
   "outputs": [],
   "source": []
  }
 ],
 "metadata": {
  "kernelspec": {
   "display_name": "Python 3 (ipykernel)",
   "language": "python",
   "name": "python3"
  },
  "language_info": {
   "codemirror_mode": {
    "name": "ipython",
    "version": 3
   },
   "file_extension": ".py",
   "mimetype": "text/x-python",
   "name": "python",
   "nbconvert_exporter": "python",
   "pygments_lexer": "ipython3",
   "version": "3.9.13"
  }
 },
 "nbformat": 4,
 "nbformat_minor": 5
}
