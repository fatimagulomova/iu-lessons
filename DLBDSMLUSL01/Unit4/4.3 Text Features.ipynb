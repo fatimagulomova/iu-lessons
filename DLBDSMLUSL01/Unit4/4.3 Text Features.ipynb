{
 "cells": [
  {
   "cell_type": "markdown",
   "id": "a36879ba",
   "metadata": {},
   "source": [
    "# Notebook Imports"
   ]
  },
  {
   "cell_type": "code",
   "execution_count": 7,
   "id": "046da67e",
   "metadata": {},
   "outputs": [],
   "source": [
    "from sklearn.feature_extraction.text import CountVectorizer\n",
    "from sklearn.feature_extraction.text import TfidfVectorizer"
   ]
  },
  {
   "cell_type": "markdown",
   "id": "4597de6c",
   "metadata": {},
   "source": [
    "# Generate sample data"
   ]
  },
  {
   "cell_type": "code",
   "execution_count": 3,
   "id": "ebda9e30",
   "metadata": {},
   "outputs": [],
   "source": [
    "corpus = ['Martin is not a bad person.',\n",
    "         'Kevin, is the brother of Martin.',\n",
    "         'Kevin is a bad person.'] "
   ]
  },
  {
   "cell_type": "markdown",
   "id": "c95bad92",
   "metadata": {},
   "source": [
    "# Bag-of-Words (BoW)"
   ]
  },
  {
   "cell_type": "code",
   "execution_count": 4,
   "id": "fc29e601",
   "metadata": {},
   "outputs": [
    {
     "name": "stdout",
     "output_type": "stream",
     "text": [
      "['Kevin' 'Martin' 'bad' 'brother' 'person']\n",
      "[[0 1 1 0 1]\n",
      " [1 1 0 1 0]\n",
      " [1 0 1 0 1]]\n"
     ]
    }
   ],
   "source": [
    "# create tokenizer\n",
    "vectorizer = CountVectorizer(lowercase=False, stop_words='english') \n",
    "\n",
    "# fit tokenizer\n",
    "BoW = vectorizer.fit_transform(corpus)\n",
    "print(vectorizer.get_feature_names_out())\n",
    "print(BoW.toarray())"
   ]
  },
  {
   "cell_type": "markdown",
   "id": "5f788ebc",
   "metadata": {},
   "source": [
    "# Bag-of-N-Grams"
   ]
  },
  {
   "cell_type": "code",
   "execution_count": 5,
   "id": "c0d93808",
   "metadata": {},
   "outputs": [
    {
     "data": {
      "text/plain": [
       "array(['Kevin bad', 'Kevin brother', 'Martin bad', 'bad person',\n",
       "       'brother Martin'], dtype=object)"
      ]
     },
     "execution_count": 5,
     "metadata": {},
     "output_type": "execute_result"
    }
   ],
   "source": [
    "# create bag Bag-of-n-Grams tokenizer\n",
    "vectorizer2 = CountVectorizer(analyzer='word', ngram_range=(2, 2), lowercase=False, stop_words='english')\n",
    "\n",
    "# fit the vectorizer\n",
    "Bo2G = vectorizer2.fit_transform(corpus)\n",
    "vectorizer2.get_feature_names_out()"
   ]
  },
  {
   "cell_type": "code",
   "execution_count": 6,
   "id": "ac6cfc00",
   "metadata": {},
   "outputs": [
    {
     "data": {
      "text/plain": [
       "array([[0, 0, 1, 1, 0],\n",
       "       [0, 1, 0, 0, 1],\n",
       "       [1, 0, 0, 1, 0]], dtype=int64)"
      ]
     },
     "execution_count": 6,
     "metadata": {},
     "output_type": "execute_result"
    }
   ],
   "source": [
    "Bo2G.toarray()"
   ]
  },
  {
   "cell_type": "markdown",
   "id": "89aa61d4",
   "metadata": {},
   "source": [
    "# Term Frequency-Inverse Document Frequency (TF-IDF)"
   ]
  },
  {
   "cell_type": "code",
   "execution_count": 12,
   "id": "ed917ce7",
   "metadata": {},
   "outputs": [
    {
     "data": {
      "text/plain": [
       "array(['Kevin', 'Martin', 'bad', 'brother', 'person'], dtype=object)"
      ]
     },
     "execution_count": 12,
     "metadata": {},
     "output_type": "execute_result"
    }
   ],
   "source": [
    "TFIDF = TfidfVectorizer(lowercase=False, norm='l2', stop_words='english')\n",
    "\n",
    "# fit tokenizer\n",
    "TFIDFtext = TFIDF.fit_transform(corpus)\n",
    "TFIDF.get_feature_names_out()"
   ]
  },
  {
   "cell_type": "code",
   "execution_count": 13,
   "id": "bd954184",
   "metadata": {},
   "outputs": [
    {
     "name": "stdout",
     "output_type": "stream",
     "text": [
      "  (0, 4)\t0.5773502691896257\n",
      "  (0, 2)\t0.5773502691896257\n",
      "  (0, 1)\t0.5773502691896257\n",
      "  (1, 3)\t0.680918560398684\n",
      "  (1, 0)\t0.5178561161676974\n",
      "  (1, 1)\t0.5178561161676974\n",
      "  (2, 0)\t0.5773502691896257\n",
      "  (2, 4)\t0.5773502691896257\n",
      "  (2, 2)\t0.5773502691896257\n"
     ]
    }
   ],
   "source": [
    "print(TFIDFtext)"
   ]
  },
  {
   "cell_type": "code",
   "execution_count": null,
   "id": "3e54133e",
   "metadata": {},
   "outputs": [],
   "source": []
  }
 ],
 "metadata": {
  "kernelspec": {
   "display_name": "Python 3 (ipykernel)",
   "language": "python",
   "name": "python3"
  },
  "language_info": {
   "codemirror_mode": {
    "name": "ipython",
    "version": 3
   },
   "file_extension": ".py",
   "mimetype": "text/x-python",
   "name": "python",
   "nbconvert_exporter": "python",
   "pygments_lexer": "ipython3",
   "version": "3.9.13"
  }
 },
 "nbformat": 4,
 "nbformat_minor": 5
}
