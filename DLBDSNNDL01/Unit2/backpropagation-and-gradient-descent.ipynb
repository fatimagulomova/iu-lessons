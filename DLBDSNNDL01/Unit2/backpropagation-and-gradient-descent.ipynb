{
 "cells": [
  {
   "cell_type": "markdown",
   "id": "1e5ee34e",
   "metadata": {
    "papermill": {
     "duration": 0.003981,
     "end_time": "2024-01-17T17:08:55.565543",
     "exception": false,
     "start_time": "2024-01-17T17:08:55.561562",
     "status": "completed"
    },
    "tags": []
   },
   "source": [
    "# Notebook Imports"
   ]
  },
  {
   "cell_type": "code",
   "execution_count": 1,
   "id": "44911e21",
   "metadata": {
    "execution": {
     "iopub.execute_input": "2024-01-17T17:08:55.574098Z",
     "iopub.status.busy": "2024-01-17T17:08:55.573738Z",
     "iopub.status.idle": "2024-01-17T17:09:09.607310Z",
     "shell.execute_reply": "2024-01-17T17:09:09.605575Z"
    },
    "papermill": {
     "duration": 14.040959,
     "end_time": "2024-01-17T17:09:09.610070",
     "exception": false,
     "start_time": "2024-01-17T17:08:55.569111",
     "status": "completed"
    },
    "tags": []
   },
   "outputs": [],
   "source": [
    "import pandas as pd\n",
    "import matplotlib.pyplot as plt\n",
    "import keras\n",
    "from keras.datasets import fashion_mnist"
   ]
  },
  {
   "cell_type": "markdown",
   "id": "a1306072",
   "metadata": {
    "papermill": {
     "duration": 0.002936,
     "end_time": "2024-01-17T17:09:09.616481",
     "exception": false,
     "start_time": "2024-01-17T17:09:09.613545",
     "status": "completed"
    },
    "tags": []
   },
   "source": [
    "## Preload the Dataset"
   ]
  },
  {
   "cell_type": "code",
   "execution_count": 2,
   "id": "3f5c5a87",
   "metadata": {
    "execution": {
     "iopub.execute_input": "2024-01-17T17:09:09.626370Z",
     "iopub.status.busy": "2024-01-17T17:09:09.625156Z",
     "iopub.status.idle": "2024-01-17T17:09:10.491406Z",
     "shell.execute_reply": "2024-01-17T17:09:10.489918Z"
    },
    "papermill": {
     "duration": 0.874806,
     "end_time": "2024-01-17T17:09:10.494479",
     "exception": false,
     "start_time": "2024-01-17T17:09:09.619673",
     "status": "completed"
    },
    "tags": []
   },
   "outputs": [
    {
     "name": "stdout",
     "output_type": "stream",
     "text": [
      "Downloading data from https://storage.googleapis.com/tensorflow/tf-keras-datasets/train-labels-idx1-ubyte.gz\n",
      "29515/29515 [==============================] - 0s 0us/step\n",
      "Downloading data from https://storage.googleapis.com/tensorflow/tf-keras-datasets/train-images-idx3-ubyte.gz\n",
      "26421880/26421880 [==============================] - 0s 0us/step\n",
      "Downloading data from https://storage.googleapis.com/tensorflow/tf-keras-datasets/t10k-labels-idx1-ubyte.gz\n",
      "5148/5148 [==============================] - 0s 0us/step\n",
      "Downloading data from https://storage.googleapis.com/tensorflow/tf-keras-datasets/t10k-images-idx3-ubyte.gz\n",
      "4422102/4422102 [==============================] - 0s 0us/step\n"
     ]
    }
   ],
   "source": [
    "fashion_mnist = keras.datasets.fashion_mnist\n",
    "(X_train_full, y_train_full), (X_test, y_test) = fashion_mnist.load_data()"
   ]
  },
  {
   "cell_type": "code",
   "execution_count": 3,
   "id": "88831143",
   "metadata": {
    "execution": {
     "iopub.execute_input": "2024-01-17T17:09:10.505587Z",
     "iopub.status.busy": "2024-01-17T17:09:10.505263Z",
     "iopub.status.idle": "2024-01-17T17:09:10.591643Z",
     "shell.execute_reply": "2024-01-17T17:09:10.590403Z"
    },
    "papermill": {
     "duration": 0.09486,
     "end_time": "2024-01-17T17:09:10.594040",
     "exception": false,
     "start_time": "2024-01-17T17:09:10.499180",
     "status": "completed"
    },
    "tags": []
   },
   "outputs": [],
   "source": [
    "X_valid, X_train = X_train_full[:5000] / 255.0, X_train_full[5000:] / 255.0\n",
    "y_valid, y_train = y_train_full[:5000], y_train_full[5000:]"
   ]
  },
  {
   "cell_type": "code",
   "execution_count": 4,
   "id": "ec15880d",
   "metadata": {
    "execution": {
     "iopub.execute_input": "2024-01-17T17:09:10.605195Z",
     "iopub.status.busy": "2024-01-17T17:09:10.604835Z",
     "iopub.status.idle": "2024-01-17T17:09:10.610169Z",
     "shell.execute_reply": "2024-01-17T17:09:10.608889Z"
    },
    "papermill": {
     "duration": 0.014109,
     "end_time": "2024-01-17T17:09:10.613132",
     "exception": false,
     "start_time": "2024-01-17T17:09:10.599023",
     "status": "completed"
    },
    "tags": []
   },
   "outputs": [],
   "source": [
    "class_names = [\"T-shirt/top\", \"Trouser\", \"Pullover\", \"Dress\", \"Coat\", \"Sandal\", \"Shirt\", \"Sneaker\", \"Bag\", \"Ankle boot\"]"
   ]
  },
  {
   "cell_type": "markdown",
   "id": "ebaeec6d",
   "metadata": {
    "papermill": {
     "duration": 0.004046,
     "end_time": "2024-01-17T17:09:10.621663",
     "exception": false,
     "start_time": "2024-01-17T17:09:10.617617",
     "status": "completed"
    },
    "tags": []
   },
   "source": [
    "## Building the Neural Network"
   ]
  },
  {
   "cell_type": "code",
   "execution_count": 5,
   "id": "747494f8",
   "metadata": {
    "execution": {
     "iopub.execute_input": "2024-01-17T17:09:10.632327Z",
     "iopub.status.busy": "2024-01-17T17:09:10.631950Z",
     "iopub.status.idle": "2024-01-17T17:09:10.831382Z",
     "shell.execute_reply": "2024-01-17T17:09:10.829969Z"
    },
    "papermill": {
     "duration": 0.208029,
     "end_time": "2024-01-17T17:09:10.834075",
     "exception": false,
     "start_time": "2024-01-17T17:09:10.626046",
     "status": "completed"
    },
    "tags": []
   },
   "outputs": [],
   "source": [
    "model = keras.models.Sequential([\n",
    "    keras.layers.Flatten(input_shape=[28, 28]),\n",
    "    keras.layers.Dense(300, activation=\"relu\"),\n",
    "    keras.layers.Dense(100, activation=\"relu\"),\n",
    "    keras.layers.Dense(10, activation=\"softmax\")\n",
    "])"
   ]
  },
  {
   "cell_type": "markdown",
   "id": "73095366",
   "metadata": {
    "papermill": {
     "duration": 0.003971,
     "end_time": "2024-01-17T17:09:10.842597",
     "exception": false,
     "start_time": "2024-01-17T17:09:10.838626",
     "status": "completed"
    },
    "tags": []
   },
   "source": [
    "## Building the Model "
   ]
  },
  {
   "cell_type": "code",
   "execution_count": 6,
   "id": "4bc017f1",
   "metadata": {
    "execution": {
     "iopub.execute_input": "2024-01-17T17:09:10.852992Z",
     "iopub.status.busy": "2024-01-17T17:09:10.852611Z",
     "iopub.status.idle": "2024-01-17T17:09:10.872656Z",
     "shell.execute_reply": "2024-01-17T17:09:10.871359Z"
    },
    "papermill": {
     "duration": 0.028344,
     "end_time": "2024-01-17T17:09:10.875247",
     "exception": false,
     "start_time": "2024-01-17T17:09:10.846903",
     "status": "completed"
    },
    "tags": []
   },
   "outputs": [],
   "source": [
    "model.compile(loss=\"sparse_categorical_crossentropy\", optimizer=\"sgd\", metrics=[\"accuracy\"])"
   ]
  },
  {
   "cell_type": "markdown",
   "id": "7f5af17e",
   "metadata": {
    "papermill": {
     "duration": 0.003839,
     "end_time": "2024-01-17T17:09:10.884140",
     "exception": false,
     "start_time": "2024-01-17T17:09:10.880301",
     "status": "completed"
    },
    "tags": []
   },
   "source": [
    "## Training and evaluating the model"
   ]
  },
  {
   "cell_type": "code",
   "execution_count": 7,
   "id": "c005ab67",
   "metadata": {
    "collapsed": true,
    "execution": {
     "iopub.execute_input": "2024-01-17T17:09:10.894898Z",
     "iopub.status.busy": "2024-01-17T17:09:10.894466Z",
     "iopub.status.idle": "2024-01-17T17:14:02.217515Z",
     "shell.execute_reply": "2024-01-17T17:14:02.215395Z"
    },
    "jupyter": {
     "outputs_hidden": true
    },
    "papermill": {
     "duration": 291.332257,
     "end_time": "2024-01-17T17:14:02.220483",
     "exception": false,
     "start_time": "2024-01-17T17:09:10.888226",
     "status": "completed"
    },
    "tags": []
   },
   "outputs": [
    {
     "name": "stdout",
     "output_type": "stream",
     "text": [
      "Epoch 1/40\n",
      "1719/1719 [==============================] - 8s 4ms/step - loss: 0.7034 - accuracy: 0.7691 - val_loss: 0.4953 - val_accuracy: 0.8290\n",
      "Epoch 2/40\n",
      "1719/1719 [==============================] - 7s 4ms/step - loss: 0.4852 - accuracy: 0.8310 - val_loss: 0.4646 - val_accuracy: 0.8340\n",
      "Epoch 3/40\n",
      "1719/1719 [==============================] - 7s 4ms/step - loss: 0.4420 - accuracy: 0.8461 - val_loss: 0.4086 - val_accuracy: 0.8614\n",
      "Epoch 4/40\n",
      "1719/1719 [==============================] - 7s 4ms/step - loss: 0.4175 - accuracy: 0.8539 - val_loss: 0.4388 - val_accuracy: 0.8446\n",
      "Epoch 5/40\n",
      "1719/1719 [==============================] - 7s 4ms/step - loss: 0.3976 - accuracy: 0.8597 - val_loss: 0.3968 - val_accuracy: 0.8584\n",
      "Epoch 6/40\n",
      "1719/1719 [==============================] - 7s 4ms/step - loss: 0.3820 - accuracy: 0.8659 - val_loss: 0.4332 - val_accuracy: 0.8458\n",
      "Epoch 7/40\n",
      "1719/1719 [==============================] - 7s 4ms/step - loss: 0.3694 - accuracy: 0.8698 - val_loss: 0.3690 - val_accuracy: 0.8688\n",
      "Epoch 8/40\n",
      "1719/1719 [==============================] - 7s 4ms/step - loss: 0.3567 - accuracy: 0.8745 - val_loss: 0.3627 - val_accuracy: 0.8686\n",
      "Epoch 9/40\n",
      "1719/1719 [==============================] - 7s 4ms/step - loss: 0.3464 - accuracy: 0.8775 - val_loss: 0.3653 - val_accuracy: 0.8720\n",
      "Epoch 10/40\n",
      "1719/1719 [==============================] - 7s 4ms/step - loss: 0.3372 - accuracy: 0.8803 - val_loss: 0.3560 - val_accuracy: 0.8740\n",
      "Epoch 11/40\n",
      "1719/1719 [==============================] - 7s 4ms/step - loss: 0.3280 - accuracy: 0.8840 - val_loss: 0.3368 - val_accuracy: 0.8754\n",
      "Epoch 12/40\n",
      "1719/1719 [==============================] - 6s 4ms/step - loss: 0.3199 - accuracy: 0.8852 - val_loss: 0.3304 - val_accuracy: 0.8788\n",
      "Epoch 13/40\n",
      "1719/1719 [==============================] - 6s 4ms/step - loss: 0.3128 - accuracy: 0.8893 - val_loss: 0.3380 - val_accuracy: 0.8802\n",
      "Epoch 14/40\n",
      "1719/1719 [==============================] - 6s 4ms/step - loss: 0.3058 - accuracy: 0.8904 - val_loss: 0.3190 - val_accuracy: 0.8834\n",
      "Epoch 15/40\n",
      "1719/1719 [==============================] - 7s 4ms/step - loss: 0.2989 - accuracy: 0.8926 - val_loss: 0.3231 - val_accuracy: 0.8854\n",
      "Epoch 16/40\n",
      "1719/1719 [==============================] - 7s 4ms/step - loss: 0.2931 - accuracy: 0.8943 - val_loss: 0.3276 - val_accuracy: 0.8808\n",
      "Epoch 17/40\n",
      "1719/1719 [==============================] - 7s 4ms/step - loss: 0.2873 - accuracy: 0.8960 - val_loss: 0.3317 - val_accuracy: 0.8826\n",
      "Epoch 18/40\n",
      "1719/1719 [==============================] - 8s 4ms/step - loss: 0.2813 - accuracy: 0.8990 - val_loss: 0.3311 - val_accuracy: 0.8820\n",
      "Epoch 19/40\n",
      "1719/1719 [==============================] - 8s 4ms/step - loss: 0.2756 - accuracy: 0.9005 - val_loss: 0.3159 - val_accuracy: 0.8854\n",
      "Epoch 20/40\n",
      "1719/1719 [==============================] - 8s 5ms/step - loss: 0.2704 - accuracy: 0.9024 - val_loss: 0.3428 - val_accuracy: 0.8784\n",
      "Epoch 21/40\n",
      "1719/1719 [==============================] - 8s 5ms/step - loss: 0.2655 - accuracy: 0.9046 - val_loss: 0.3039 - val_accuracy: 0.8870\n",
      "Epoch 22/40\n",
      "1719/1719 [==============================] - 8s 5ms/step - loss: 0.2608 - accuracy: 0.9058 - val_loss: 0.3062 - val_accuracy: 0.8902\n",
      "Epoch 23/40\n",
      "1719/1719 [==============================] - 8s 5ms/step - loss: 0.2568 - accuracy: 0.9070 - val_loss: 0.3077 - val_accuracy: 0.8882\n",
      "Epoch 24/40\n",
      "1719/1719 [==============================] - 8s 5ms/step - loss: 0.2512 - accuracy: 0.9086 - val_loss: 0.3178 - val_accuracy: 0.8834\n",
      "Epoch 25/40\n",
      "1719/1719 [==============================] - 8s 5ms/step - loss: 0.2478 - accuracy: 0.9108 - val_loss: 0.3245 - val_accuracy: 0.8840\n",
      "Epoch 26/40\n",
      "1719/1719 [==============================] - 8s 5ms/step - loss: 0.2434 - accuracy: 0.9113 - val_loss: 0.3060 - val_accuracy: 0.8874\n",
      "Epoch 27/40\n",
      "1719/1719 [==============================] - 8s 5ms/step - loss: 0.2392 - accuracy: 0.9130 - val_loss: 0.3001 - val_accuracy: 0.8918\n",
      "Epoch 28/40\n",
      "1719/1719 [==============================] - 8s 4ms/step - loss: 0.2348 - accuracy: 0.9147 - val_loss: 0.2923 - val_accuracy: 0.8934\n",
      "Epoch 29/40\n",
      "1719/1719 [==============================] - 7s 4ms/step - loss: 0.2308 - accuracy: 0.9170 - val_loss: 0.2915 - val_accuracy: 0.8960\n",
      "Epoch 30/40\n",
      "1719/1719 [==============================] - 7s 4ms/step - loss: 0.2275 - accuracy: 0.9179 - val_loss: 0.3132 - val_accuracy: 0.8908\n",
      "Epoch 31/40\n",
      "1719/1719 [==============================] - 7s 4ms/step - loss: 0.2231 - accuracy: 0.9187 - val_loss: 0.2903 - val_accuracy: 0.8954\n",
      "Epoch 32/40\n",
      "1719/1719 [==============================] - 8s 4ms/step - loss: 0.2207 - accuracy: 0.9201 - val_loss: 0.2895 - val_accuracy: 0.8940\n",
      "Epoch 33/40\n",
      "1719/1719 [==============================] - 7s 4ms/step - loss: 0.2163 - accuracy: 0.9221 - val_loss: 0.2918 - val_accuracy: 0.8946\n",
      "Epoch 34/40\n",
      "1719/1719 [==============================] - 7s 4ms/step - loss: 0.2133 - accuracy: 0.9236 - val_loss: 0.2985 - val_accuracy: 0.8934\n",
      "Epoch 35/40\n",
      "1719/1719 [==============================] - 7s 4ms/step - loss: 0.2095 - accuracy: 0.9244 - val_loss: 0.2901 - val_accuracy: 0.8976\n",
      "Epoch 36/40\n",
      "1719/1719 [==============================] - 7s 4ms/step - loss: 0.2064 - accuracy: 0.9269 - val_loss: 0.2952 - val_accuracy: 0.8948\n",
      "Epoch 37/40\n",
      "1719/1719 [==============================] - 7s 4ms/step - loss: 0.2024 - accuracy: 0.9267 - val_loss: 0.2834 - val_accuracy: 0.8976\n",
      "Epoch 38/40\n",
      "1719/1719 [==============================] - 7s 4ms/step - loss: 0.1997 - accuracy: 0.9275 - val_loss: 0.2982 - val_accuracy: 0.8976\n",
      "Epoch 39/40\n",
      "1719/1719 [==============================] - 7s 4ms/step - loss: 0.1968 - accuracy: 0.9289 - val_loss: 0.2875 - val_accuracy: 0.8946\n",
      "Epoch 40/40\n",
      "1719/1719 [==============================] - 7s 4ms/step - loss: 0.1925 - accuracy: 0.9310 - val_loss: 0.2896 - val_accuracy: 0.8968\n"
     ]
    }
   ],
   "source": [
    "model_history = model.fit(X_train, y_train, epochs=40, validation_data=(X_valid, y_valid))"
   ]
  },
  {
   "cell_type": "markdown",
   "id": "4f9456cb",
   "metadata": {
    "papermill": {
     "duration": 0.312507,
     "end_time": "2024-01-17T17:14:02.902550",
     "exception": false,
     "start_time": "2024-01-17T17:14:02.590043",
     "status": "completed"
    },
    "tags": []
   },
   "source": [
    "## Visualization of Model"
   ]
  },
  {
   "cell_type": "code",
   "execution_count": 8,
   "id": "68b07a89",
   "metadata": {
    "execution": {
     "iopub.execute_input": "2024-01-17T17:14:03.539512Z",
     "iopub.status.busy": "2024-01-17T17:14:03.539121Z",
     "iopub.status.idle": "2024-01-17T17:14:03.825249Z",
     "shell.execute_reply": "2024-01-17T17:14:03.823816Z"
    },
    "papermill": {
     "duration": 0.602737,
     "end_time": "2024-01-17T17:14:03.827931",
     "exception": false,
     "start_time": "2024-01-17T17:14:03.225194",
     "status": "completed"
    },
    "tags": []
   },
   "outputs": [
    {
     "data": {
      "image/png": "[encoded data removed]",
      "text/plain": [
       "<Figure size 800x500 with 1 Axes>"
      ]
     },
     "metadata": {},
     "output_type": "display_data"
    }
   ],
   "source": [
    "pd.DataFrame(model_history.history).plot(figsize=(8, 5))\n",
    "plt.gca().set_ylim(0, 1) \n",
    "plt.show()"
   ]
  },
  {
   "cell_type": "code",
   "execution_count": null,
   "id": "b90c73a1",
   "metadata": {
    "papermill": {
     "duration": 0.314726,
     "end_time": "2024-01-17T17:14:04.455189",
     "exception": false,
     "start_time": "2024-01-17T17:14:04.140463",
     "status": "completed"
    },
    "tags": []
   },
   "outputs": [],
   "source": []
  }
 ],
 "metadata": {
  "kaggle": {
   "accelerator": "none",
   "dataSources": [],
   "dockerImageVersionId": 30636,
   "isGpuEnabled": false,
   "isInternetEnabled": true,
   "language": "python",
   "sourceType": "notebook"
  },
  "kernelspec": {
   "display_name": "Python 3",
   "language": "python",
   "name": "python3"
  },
  "language_info": {
   "codemirror_mode": {
    "name": "ipython",
    "version": 3
   },
   "file_extension": ".py",
   "mimetype": "text/x-python",
   "name": "python",
   "nbconvert_exporter": "python",
   "pygments_lexer": "ipython3",
   "version": "3.10.12"
  },
  "papermill": {
   "default_parameters": {},
   "duration": 314.433168,
   "end_time": "2024-01-17T17:14:07.235117",
   "environment_variables": {},
   "exception": null,
   "input_path": "__notebook__.ipynb",
   "output_path": "__notebook__.ipynb",
   "parameters": {},
   "start_time": "2024-01-17T17:08:52.801949",
   "version": "2.4.0"
  }
 },
 "nbformat": 4,
 "nbformat_minor": 5
}
