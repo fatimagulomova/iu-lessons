{
 "cells": [
  {
   "cell_type": "markdown",
   "id": "ea8f734a",
   "metadata": {
    "papermill": {
     "duration": 0.00492,
     "end_time": "2024-01-18T14:58:51.847252",
     "exception": false,
     "start_time": "2024-01-18T14:58:51.842332",
     "status": "completed"
    },
    "tags": []
   },
   "source": [
    "# Notebook Imports"
   ]
  },
  {
   "cell_type": "code",
   "execution_count": 1,
   "id": "359a4158",
   "metadata": {
    "execution": {
     "iopub.execute_input": "2024-01-18T14:58:51.857746Z",
     "iopub.status.busy": "2024-01-18T14:58:51.857377Z",
     "iopub.status.idle": "2024-01-18T14:59:05.245174Z",
     "shell.execute_reply": "2024-01-18T14:59:05.244189Z"
    },
    "papermill": {
     "duration": 13.395926,
     "end_time": "2024-01-18T14:59:05.247923",
     "exception": false,
     "start_time": "2024-01-18T14:58:51.851997",
     "status": "completed"
    },
    "tags": []
   },
   "outputs": [
    {
     "name": "stderr",
     "output_type": "stream",
     "text": [
      "/opt/conda/lib/python3.10/site-packages/scipy/__init__.py:146: UserWarning: A NumPy version >=1.16.5 and <1.23.0 is required for this version of SciPy (detected version 1.24.3\n",
      "  warnings.warn(f\"A NumPy version >={np_minversion} and <{np_maxversion}\"\n"
     ]
    }
   ],
   "source": [
    "import pandas as pd\n",
    "import matplotlib.pyplot as plt\n",
    "import keras\n",
    "from keras.datasets import fashion_mnist"
   ]
  },
  {
   "cell_type": "markdown",
   "id": "72e18fc3",
   "metadata": {
    "papermill": {
     "duration": 0.004244,
     "end_time": "2024-01-18T14:59:05.257107",
     "exception": false,
     "start_time": "2024-01-18T14:59:05.252863",
     "status": "completed"
    },
    "tags": []
   },
   "source": [
    "## Preload the Dataset"
   ]
  },
  {
   "cell_type": "code",
   "execution_count": 2,
   "id": "b31f7221",
   "metadata": {
    "execution": {
     "iopub.execute_input": "2024-01-18T14:59:05.267949Z",
     "iopub.status.busy": "2024-01-18T14:59:05.267341Z",
     "iopub.status.idle": "2024-01-18T14:59:06.147977Z",
     "shell.execute_reply": "2024-01-18T14:59:06.146905Z"
    },
    "papermill": {
     "duration": 0.889132,
     "end_time": "2024-01-18T14:59:06.150766",
     "exception": false,
     "start_time": "2024-01-18T14:59:05.261634",
     "status": "completed"
    },
    "tags": []
   },
   "outputs": [
    {
     "name": "stdout",
     "output_type": "stream",
     "text": [
      "Downloading data from https://storage.googleapis.com/tensorflow/tf-keras-datasets/train-labels-idx1-ubyte.gz\n",
      "29515/29515 [==============================] - 0s 0us/step\n",
      "Downloading data from https://storage.googleapis.com/tensorflow/tf-keras-datasets/train-images-idx3-ubyte.gz\n",
      "26421880/26421880 [==============================] - 0s 0us/step\n",
      "Downloading data from https://storage.googleapis.com/tensorflow/tf-keras-datasets/t10k-labels-idx1-ubyte.gz\n",
      "5148/5148 [==============================] - 0s 0us/step\n",
      "Downloading data from https://storage.googleapis.com/tensorflow/tf-keras-datasets/t10k-images-idx3-ubyte.gz\n",
      "4422102/4422102 [==============================] - 0s 0us/step\n"
     ]
    }
   ],
   "source": [
    "fashion_mnist = keras.datasets.fashion_mnist\n",
    "(X_train_full, y_train_full), (X_test, y_test) = fashion_mnist.load_data()"
   ]
  },
  {
   "cell_type": "code",
   "execution_count": 3,
   "id": "25b82fc7",
   "metadata": {
    "execution": {
     "iopub.execute_input": "2024-01-18T14:59:06.164615Z",
     "iopub.status.busy": "2024-01-18T14:59:06.164245Z",
     "iopub.status.idle": "2024-01-18T14:59:06.299059Z",
     "shell.execute_reply": "2024-01-18T14:59:06.297826Z"
    },
    "papermill": {
     "duration": 0.144752,
     "end_time": "2024-01-18T14:59:06.301793",
     "exception": false,
     "start_time": "2024-01-18T14:59:06.157041",
     "status": "completed"
    },
    "tags": []
   },
   "outputs": [],
   "source": [
    "X_valid, X_train = X_train_full[:5000] / 255.0, X_train_full[5000:] / 255.0\n",
    "y_valid, y_train = y_train_full[:5000], y_train_full[5000:]"
   ]
  },
  {
   "cell_type": "code",
   "execution_count": 4,
   "id": "e7d6d074",
   "metadata": {
    "execution": {
     "iopub.execute_input": "2024-01-18T14:59:06.314718Z",
     "iopub.status.busy": "2024-01-18T14:59:06.314396Z",
     "iopub.status.idle": "2024-01-18T14:59:06.318988Z",
     "shell.execute_reply": "2024-01-18T14:59:06.318064Z"
    },
    "papermill": {
     "duration": 0.013467,
     "end_time": "2024-01-18T14:59:06.321149",
     "exception": false,
     "start_time": "2024-01-18T14:59:06.307682",
     "status": "completed"
    },
    "tags": []
   },
   "outputs": [],
   "source": [
    "class_names = [\"T-shirt/top\", \"Trouser\", \"Pullover\", \"Dress\", \"Coat\", \"Sandal\", \"Shirt\", \"Sneaker\", \"Bag\", \"Ankle boot\"]"
   ]
  },
  {
   "cell_type": "markdown",
   "id": "0a5bc2fc",
   "metadata": {
    "papermill": {
     "duration": 0.005371,
     "end_time": "2024-01-18T14:59:06.331908",
     "exception": false,
     "start_time": "2024-01-18T14:59:06.326537",
     "status": "completed"
    },
    "tags": []
   },
   "source": [
    "## Building the Neural Network"
   ]
  },
  {
   "cell_type": "code",
   "execution_count": 5,
   "id": "757dd6ae",
   "metadata": {
    "execution": {
     "iopub.execute_input": "2024-01-18T14:59:06.344445Z",
     "iopub.status.busy": "2024-01-18T14:59:06.344113Z",
     "iopub.status.idle": "2024-01-18T14:59:07.473254Z",
     "shell.execute_reply": "2024-01-18T14:59:07.471835Z"
    },
    "papermill": {
     "duration": 1.138625,
     "end_time": "2024-01-18T14:59:07.476063",
     "exception": false,
     "start_time": "2024-01-18T14:59:06.337438",
     "status": "completed"
    },
    "tags": []
   },
   "outputs": [],
   "source": [
    "model = keras.models.Sequential([\n",
    "    keras.layers.Flatten(input_shape=[28, 28]),\n",
    "    keras.layers.BatchNormalization(),\n",
    "    keras.layers.Dense(300, activation=\"relu\", kernel_initializer=\"he_normal\"),\n",
    "    keras.layers.BatchNormalization(),\n",
    "    keras.layers.Dense(100, activation=\"relu\", kernel_initializer=\"he_normal\"),\n",
    "    keras.layers.BatchNormalization(),\n",
    "    keras.layers.Dense(10, activation=\"softmax\")\n",
    "])"
   ]
  },
  {
   "cell_type": "markdown",
   "id": "9f90c321",
   "metadata": {
    "papermill": {
     "duration": 0.005444,
     "end_time": "2024-01-18T14:59:07.489074",
     "exception": false,
     "start_time": "2024-01-18T14:59:07.483630",
     "status": "completed"
    },
    "tags": []
   },
   "source": [
    "## Building the Model "
   ]
  },
  {
   "cell_type": "code",
   "execution_count": 6,
   "id": "1311b312",
   "metadata": {
    "execution": {
     "iopub.execute_input": "2024-01-18T14:59:07.502502Z",
     "iopub.status.busy": "2024-01-18T14:59:07.501680Z",
     "iopub.status.idle": "2024-01-18T14:59:07.521799Z",
     "shell.execute_reply": "2024-01-18T14:59:07.520857Z"
    },
    "papermill": {
     "duration": 0.029696,
     "end_time": "2024-01-18T14:59:07.524648",
     "exception": false,
     "start_time": "2024-01-18T14:59:07.494952",
     "status": "completed"
    },
    "tags": []
   },
   "outputs": [],
   "source": [
    "model.compile(loss=\"sparse_categorical_crossentropy\", optimizer=\"sgd\", metrics=[\"accuracy\"])"
   ]
  },
  {
   "cell_type": "markdown",
   "id": "c9a327ea",
   "metadata": {
    "papermill": {
     "duration": 0.005847,
     "end_time": "2024-01-18T14:59:07.536734",
     "exception": false,
     "start_time": "2024-01-18T14:59:07.530887",
     "status": "completed"
    },
    "tags": []
   },
   "source": [
    "## Training and evaluating the model"
   ]
  },
  {
   "cell_type": "code",
   "execution_count": 7,
   "id": "b9a20e5a",
   "metadata": {
    "execution": {
     "iopub.execute_input": "2024-01-18T14:59:07.550772Z",
     "iopub.status.busy": "2024-01-18T14:59:07.549807Z",
     "iopub.status.idle": "2024-01-18T15:04:11.885689Z",
     "shell.execute_reply": "2024-01-18T15:04:11.884522Z"
    },
    "papermill": {
     "duration": 304.34526,
     "end_time": "2024-01-18T15:04:11.888025",
     "exception": false,
     "start_time": "2024-01-18T14:59:07.542765",
     "status": "completed"
    },
    "tags": []
   },
   "outputs": [
    {
     "name": "stdout",
     "output_type": "stream",
     "text": [
      "Epoch 1/40\n",
      "1719/1719 [==============================] - 11s 5ms/step - loss: 0.5542 - accuracy: 0.8080 - val_loss: 0.3877 - val_accuracy: 0.8632\n",
      "Epoch 2/40\n",
      "1719/1719 [==============================] - 8s 4ms/step - loss: 0.4077 - accuracy: 0.8544 - val_loss: 0.3518 - val_accuracy: 0.8746\n",
      "Epoch 3/40\n",
      "1719/1719 [==============================] - 8s 4ms/step - loss: 0.3652 - accuracy: 0.8699 - val_loss: 0.3383 - val_accuracy: 0.8818\n",
      "Epoch 4/40\n",
      "1719/1719 [==============================] - 8s 5ms/step - loss: 0.3396 - accuracy: 0.8776 - val_loss: 0.3267 - val_accuracy: 0.8836\n",
      "Epoch 5/40\n",
      "1719/1719 [==============================] - 8s 4ms/step - loss: 0.3205 - accuracy: 0.8840 - val_loss: 0.3280 - val_accuracy: 0.8824\n",
      "Epoch 6/40\n",
      "1719/1719 [==============================] - 8s 4ms/step - loss: 0.3058 - accuracy: 0.8872 - val_loss: 0.3204 - val_accuracy: 0.8876\n",
      "Epoch 7/40\n",
      "1719/1719 [==============================] - 7s 4ms/step - loss: 0.2887 - accuracy: 0.8950 - val_loss: 0.3151 - val_accuracy: 0.8858\n",
      "Epoch 8/40\n",
      "1719/1719 [==============================] - 8s 4ms/step - loss: 0.2760 - accuracy: 0.8996 - val_loss: 0.3168 - val_accuracy: 0.8878\n",
      "Epoch 9/40\n",
      "1719/1719 [==============================] - 7s 4ms/step - loss: 0.2661 - accuracy: 0.9025 - val_loss: 0.3111 - val_accuracy: 0.8912\n",
      "Epoch 10/40\n",
      "1719/1719 [==============================] - 7s 4ms/step - loss: 0.2569 - accuracy: 0.9057 - val_loss: 0.3160 - val_accuracy: 0.8864\n",
      "Epoch 11/40\n",
      "1719/1719 [==============================] - 7s 4ms/step - loss: 0.2476 - accuracy: 0.9082 - val_loss: 0.3154 - val_accuracy: 0.8870\n",
      "Epoch 12/40\n",
      "1719/1719 [==============================] - 7s 4ms/step - loss: 0.2377 - accuracy: 0.9128 - val_loss: 0.3064 - val_accuracy: 0.8928\n",
      "Epoch 13/40\n",
      "1719/1719 [==============================] - 8s 4ms/step - loss: 0.2281 - accuracy: 0.9156 - val_loss: 0.3116 - val_accuracy: 0.8944\n",
      "Epoch 14/40\n",
      "1719/1719 [==============================] - 7s 4ms/step - loss: 0.2207 - accuracy: 0.9188 - val_loss: 0.3179 - val_accuracy: 0.8900\n",
      "Epoch 15/40\n",
      "1719/1719 [==============================] - 8s 4ms/step - loss: 0.2124 - accuracy: 0.9223 - val_loss: 0.3191 - val_accuracy: 0.8932\n",
      "Epoch 16/40\n",
      "1719/1719 [==============================] - 7s 4ms/step - loss: 0.2053 - accuracy: 0.9246 - val_loss: 0.3155 - val_accuracy: 0.8912\n",
      "Epoch 17/40\n",
      "1719/1719 [==============================] - 8s 4ms/step - loss: 0.2019 - accuracy: 0.9255 - val_loss: 0.3218 - val_accuracy: 0.8918\n",
      "Epoch 18/40\n",
      "1719/1719 [==============================] - 7s 4ms/step - loss: 0.1937 - accuracy: 0.9291 - val_loss: 0.3240 - val_accuracy: 0.8908\n",
      "Epoch 19/40\n",
      "1719/1719 [==============================] - 7s 4ms/step - loss: 0.1894 - accuracy: 0.9309 - val_loss: 0.3276 - val_accuracy: 0.8884\n",
      "Epoch 20/40\n",
      "1719/1719 [==============================] - 8s 4ms/step - loss: 0.1822 - accuracy: 0.9333 - val_loss: 0.3315 - val_accuracy: 0.8900\n",
      "Epoch 21/40\n",
      "1719/1719 [==============================] - 8s 4ms/step - loss: 0.1772 - accuracy: 0.9354 - val_loss: 0.3356 - val_accuracy: 0.8920\n",
      "Epoch 22/40\n",
      "1719/1719 [==============================] - 7s 4ms/step - loss: 0.1720 - accuracy: 0.9368 - val_loss: 0.3345 - val_accuracy: 0.8872\n",
      "Epoch 23/40\n",
      "1719/1719 [==============================] - 7s 4ms/step - loss: 0.1653 - accuracy: 0.9405 - val_loss: 0.3348 - val_accuracy: 0.8906\n",
      "Epoch 24/40\n",
      "1719/1719 [==============================] - 7s 4ms/step - loss: 0.1629 - accuracy: 0.9407 - val_loss: 0.3392 - val_accuracy: 0.8954\n",
      "Epoch 25/40\n",
      "1719/1719 [==============================] - 8s 4ms/step - loss: 0.1588 - accuracy: 0.9425 - val_loss: 0.3355 - val_accuracy: 0.8898\n",
      "Epoch 26/40\n",
      "1719/1719 [==============================] - 7s 4ms/step - loss: 0.1538 - accuracy: 0.9436 - val_loss: 0.3385 - val_accuracy: 0.8926\n",
      "Epoch 27/40\n",
      "1719/1719 [==============================] - 7s 4ms/step - loss: 0.1505 - accuracy: 0.9449 - val_loss: 0.3363 - val_accuracy: 0.8944\n",
      "Epoch 28/40\n",
      "1719/1719 [==============================] - 7s 4ms/step - loss: 0.1462 - accuracy: 0.9462 - val_loss: 0.3444 - val_accuracy: 0.8898\n",
      "Epoch 29/40\n",
      "1719/1719 [==============================] - 8s 4ms/step - loss: 0.1408 - accuracy: 0.9486 - val_loss: 0.3438 - val_accuracy: 0.8934\n",
      "Epoch 30/40\n",
      "1719/1719 [==============================] - 7s 4ms/step - loss: 0.1409 - accuracy: 0.9486 - val_loss: 0.3560 - val_accuracy: 0.8912\n",
      "Epoch 31/40\n",
      "1719/1719 [==============================] - 7s 4ms/step - loss: 0.1333 - accuracy: 0.9517 - val_loss: 0.3569 - val_accuracy: 0.8914\n",
      "Epoch 32/40\n",
      "1719/1719 [==============================] - 7s 4ms/step - loss: 0.1292 - accuracy: 0.9531 - val_loss: 0.3563 - val_accuracy: 0.8904\n",
      "Epoch 33/40\n",
      "1719/1719 [==============================] - 7s 4ms/step - loss: 0.1286 - accuracy: 0.9528 - val_loss: 0.3602 - val_accuracy: 0.8934\n",
      "Epoch 34/40\n",
      "1719/1719 [==============================] - 8s 4ms/step - loss: 0.1235 - accuracy: 0.9552 - val_loss: 0.3640 - val_accuracy: 0.8890\n",
      "Epoch 35/40\n",
      "1719/1719 [==============================] - 7s 4ms/step - loss: 0.1209 - accuracy: 0.9558 - val_loss: 0.3783 - val_accuracy: 0.8892\n",
      "Epoch 36/40\n",
      "1719/1719 [==============================] - 8s 4ms/step - loss: 0.1185 - accuracy: 0.9567 - val_loss: 0.3639 - val_accuracy: 0.8930\n",
      "Epoch 37/40\n",
      "1719/1719 [==============================] - 8s 4ms/step - loss: 0.1151 - accuracy: 0.9578 - val_loss: 0.3756 - val_accuracy: 0.8894\n",
      "Epoch 38/40\n",
      "1719/1719 [==============================] - 8s 4ms/step - loss: 0.1131 - accuracy: 0.9588 - val_loss: 0.3713 - val_accuracy: 0.8892\n",
      "Epoch 39/40\n",
      "1719/1719 [==============================] - 7s 4ms/step - loss: 0.1111 - accuracy: 0.9595 - val_loss: 0.3687 - val_accuracy: 0.8938\n",
      "Epoch 40/40\n",
      "1719/1719 [==============================] - 7s 4ms/step - loss: 0.1073 - accuracy: 0.9610 - val_loss: 0.3815 - val_accuracy: 0.8896\n"
     ]
    }
   ],
   "source": [
    "model_history = model.fit(X_train, y_train, epochs=40, validation_data=(X_valid, y_valid))"
   ]
  },
  {
   "cell_type": "markdown",
   "id": "35349ad9",
   "metadata": {
    "papermill": {
     "duration": 0.473304,
     "end_time": "2024-01-18T15:04:12.850761",
     "exception": false,
     "start_time": "2024-01-18T15:04:12.377457",
     "status": "completed"
    },
    "tags": []
   },
   "source": [
    "## Visualization of Model"
   ]
  },
  {
   "cell_type": "code",
   "execution_count": 8,
   "id": "2170beec",
   "metadata": {
    "execution": {
     "iopub.execute_input": "2024-01-18T15:04:13.861268Z",
     "iopub.status.busy": "2024-01-18T15:04:13.860859Z",
     "iopub.status.idle": "2024-01-18T15:04:14.163118Z",
     "shell.execute_reply": "2024-01-18T15:04:14.162111Z"
    },
    "papermill": {
     "duration": 0.838767,
     "end_time": "2024-01-18T15:04:14.165220",
     "exception": false,
     "start_time": "2024-01-18T15:04:13.326453",
     "status": "completed"
    },
    "tags": []
   },
   "outputs": [
    {
     "data": {
      "image/png": "[encoded data removed]",
      "text/plain": [
       "<Figure size 800x500 with 1 Axes>"
      ]
     },
     "metadata": {},
     "output_type": "display_data"
    }
   ],
   "source": [
    "pd.DataFrame(model_history.history).plot(figsize=(8, 5))\n",
    "plt.gca().set_ylim(0, 1) \n",
    "plt.show()"
   ]
  },
  {
   "cell_type": "code",
   "execution_count": null,
   "id": "e5f55bed",
   "metadata": {
    "papermill": {
     "duration": 0.525936,
     "end_time": "2024-01-18T15:04:15.174676",
     "exception": false,
     "start_time": "2024-01-18T15:04:14.648740",
     "status": "completed"
    },
    "tags": []
   },
   "outputs": [],
   "source": []
  }
 ],
 "metadata": {
  "kaggle": {
   "accelerator": "gpu",
   "dataSources": [],
   "dockerImageVersionId": 30636,
   "isGpuEnabled": true,
   "isInternetEnabled": true,
   "language": "python",
   "sourceType": "notebook"
  },
  "kernelspec": {
   "display_name": "Python 3",
   "language": "python",
   "name": "python3"
  },
  "language_info": {
   "codemirror_mode": {
    "name": "ipython",
    "version": 3
   },
   "file_extension": ".py",
   "mimetype": "text/x-python",
   "name": "python",
   "nbconvert_exporter": "python",
   "pygments_lexer": "ipython3",
   "version": "3.10.12"
  },
  "papermill": {
   "default_parameters": {},
   "duration": 329.907836,
   "end_time": "2024-01-18T15:04:18.009652",
   "environment_variables": {},
   "exception": null,
   "input_path": "__notebook__.ipynb",
   "output_path": "__notebook__.ipynb",
   "parameters": {},
   "start_time": "2024-01-18T14:58:48.101816",
   "version": "2.4.0"
  }
 },
 "nbformat": 4,
 "nbformat_minor": 5
}
